{
  "cells": [
    {
      "cell_type": "markdown",
      "id": "6bb7deb9",
      "metadata": {
        "id": "6bb7deb9"
      },
      "source": [
        "# Introducción\n",
        "\n",
        "## Primeros Pasos\n",
        "\n",
        "Este es un párrafo en Markdown. Se escribe normalito.\n",
        "\n",
        "Algunos estilos son: _Esto es cursiva_, **Esto es negrita**\n",
        "\n",
        "Si quiero agregar código en línea, utilizo el backtip: `variable_1`, `variable_2`\n",
        "\n",
        "Y LaTeX para ecuaciones: $x, y, z$\n",
        "\n",
        "$$ y = mx + b $$\n",
        "\n",
        "## Listas Desordenadas\n",
        "\n",
        "Ingredientes:\n",
        "- Harina\n",
        "- Huevo\n",
        "- Leche\n",
        "- Azúcar\n",
        "- Mantequilla\n",
        "\n",
        "\n",
        "## Listas Ordenadas\n",
        "\n",
        "Receta:\n",
        "\n",
        "1. Mezcle los ingredientes secos (harina, azúcar)\n",
        "2. Agregue la leche y el huevo\n",
        "3. Mezcle con la mantequilla\n",
        "\n",
        "### Texto \"Estilizado\" o para frases:\n",
        "\n",
        "> Esta es una información importante"
      ]
    },
    {
      "cell_type": "code",
      "execution_count": null,
      "id": "f5e3c6e7",
      "metadata": {
        "id": "f5e3c6e7",
        "outputId": "3ce4364e-bb1d-423a-816b-e35800da5c90"
      },
      "outputs": [
        {
          "name": "stdout",
          "output_type": "stream",
          "text": [
            "Bienvenidos a Python\n",
            "Hola Mikheltodd es un gusto conocerte.\n"
          ]
        }
      ],
      "source": [
        "print(\"Bienvenidos a Python\")\n",
        "name = \"Mikheltodd\"\n",
        "print(\"Hola\", name, \"es un gusto conocerte.\")"
      ]
    },
    {
      "cell_type": "code",
      "execution_count": null,
      "id": "f66c5d54",
      "metadata": {
        "id": "f66c5d54"
      },
      "outputs": [],
      "source": []
    },
    {
      "cell_type": "markdown",
      "source": [
        "## *comentarios*"
      ],
      "metadata": {
        "id": "MxFedfUVtnvR"
      },
      "id": "MxFedfUVtnvR"
    },
    {
      "cell_type": "code",
      "source": [
        "# Este es un comentario \n"
      ],
      "metadata": {
        "id": "CVnTz5kLtrC3"
      },
      "id": "CVnTz5kLtrC3",
      "execution_count": 14,
      "outputs": []
    },
    {
      "cell_type": "code",
      "source": [
        "name = \"ESTRADA\" \n",
        "print(name)"
      ],
      "metadata": {
        "id": "TgXm8fQaw2ue",
        "outputId": "2af9bfd2-62e8-4e27-a887-5a789b8c79b8",
        "colab": {
          "base_uri": "https://localhost:8080/"
        }
      },
      "id": "TgXm8fQaw2ue",
      "execution_count": 16,
      "outputs": [
        {
          "output_type": "stream",
          "name": "stdout",
          "text": [
            "ESTRADA\n"
          ]
        }
      ]
    },
    {
      "cell_type": "code",
      "source": [
        "age = 18 \n",
        "height = 1.79"
      ],
      "metadata": {
        "id": "RuN1WiXXxKCG"
      },
      "id": "RuN1WiXXxKCG",
      "execution_count": 18,
      "outputs": []
    },
    {
      "cell_type": "code",
      "source": [
        "print(type(age))\n",
        "print(type(height))"
      ],
      "metadata": {
        "id": "G5pxW-yhyK2g",
        "outputId": "fe8c639f-c12d-4ad6-d63a-cae61abcec89",
        "colab": {
          "base_uri": "https://localhost:8080/"
        }
      },
      "id": "G5pxW-yhyK2g",
      "execution_count": 19,
      "outputs": [
        {
          "output_type": "stream",
          "name": "stdout",
          "text": [
            "<class 'int'>\n",
            "<class 'float'>\n"
          ]
        }
      ]
    },
    {
      "cell_type": "code",
      "source": [
        "a = 5\n",
        "b = 2\n",
        "c = a + b \n",
        "d = a - b \n",
        "e = a * b \n",
        "f = a / b \n",
        "print(c)\n",
        "print(d)\n",
        "print(e)\n",
        "print(f)\n",
        "\n",
        "\n",
        "\n",
        "\n",
        "\n"
      ],
      "metadata": {
        "id": "UEQk-uwyyn3J",
        "outputId": "c0a369c0-78cf-422f-a09a-e2efc78677c1",
        "colab": {
          "base_uri": "https://localhost:8080/"
        }
      },
      "id": "UEQk-uwyyn3J",
      "execution_count": 23,
      "outputs": [
        {
          "output_type": "stream",
          "name": "stdout",
          "text": [
            "7\n",
            "3\n",
            "10\n",
            "2.5\n"
          ]
        }
      ]
    },
    {
      "cell_type": "code",
      "source": [
        "a = 5\n",
        "b = 2\n",
        "c = 3.5\"\n",
        "eq = 2 *a + 3 * b + 5 * c\n",
        "print(eq)\n",
        "\""
      ],
      "metadata": {
        "id": "vebJxMzCz9dK",
        "outputId": "d349ed14-4a84-49f0-be36-8eb2f607c81d",
        "colab": {
          "base_uri": "https://localhost:8080/"
        }
      },
      "id": "vebJxMzCz9dK",
      "execution_count": 38,
      "outputs": [
        {
          "output_type": "stream",
          "name": "stdout",
          "text": [
            "33.5\n"
          ]
        }
      ]
    },
    {
      "cell_type": "code",
      "source": [
        "## calculo de la potencia\n",
        "a = 3 ** 3 \n",
        "## calculo de la raiz cuadrada  \n",
        "b = 5 ** 5 \n",
        "print(a)\n",
        "print(b)\n"
      ],
      "metadata": {
        "id": "R1oxOwAZ096s",
        "outputId": "aaa6b34f-40ae-4830-c149-ba462048387f",
        "colab": {
          "base_uri": "https://localhost:8080/"
        }
      },
      "id": "R1oxOwAZ096s",
      "execution_count": 41,
      "outputs": [
        {
          "output_type": "stream",
          "name": "stdout",
          "text": [
            "27\n",
            "3125\n"
          ]
        }
      ]
    },
    {
      "cell_type": "code",
      "source": [
        "# calculo de modulo \n",
        "n = 5 \n",
        "x = n % 2 \n",
        "print(x)"
      ],
      "metadata": {
        "id": "WISWaQV93REm",
        "outputId": "c95eb736-d541-4a31-8998-29e57aa01789",
        "colab": {
          "base_uri": "https://localhost:8080/"
        }
      },
      "id": "WISWaQV93REm",
      "execution_count": 42,
      "outputs": [
        {
          "output_type": "stream",
          "name": "stdout",
          "text": [
            "1\n"
          ]
        }
      ]
    },
    {
      "cell_type": "code",
      "source": [
        "greetingS = \"Good morning\"\n",
        "name = \"FREDY\"\n",
        "age = 18 \n",
        "message = greeting + \" My name is \" + name + \" and I am \" + str(age) +  \" years old \" \n",
        "print(message)"
      ],
      "metadata": {
        "id": "vQfNMel_4IdQ",
        "outputId": "466d821c-bf4f-479a-efe3-eb2bc2fd08c6",
        "colab": {
          "base_uri": "https://localhost:8080/"
        }
      },
      "id": "vQfNMel_4IdQ",
      "execution_count": 51,
      "outputs": [
        {
          "output_type": "stream",
          "name": "stdout",
          "text": [
            "good morning My name is FREDY and I am 18 years old \n"
          ]
        }
      ]
    },
    {
      "cell_type": "code",
      "source": [
        "price = 5000\n",
        "print(price)\n",
        "price += 500 \n",
        "price*= 3\n",
        "price /= 5\n",
        "price -= 5\n",
        "print(price)"
      ],
      "metadata": {
        "id": "XTHTZrgy51WO",
        "outputId": "5685adca-249d-4115-cf6e-bde497b8e173",
        "colab": {
          "base_uri": "https://localhost:8080/"
        }
      },
      "id": "XTHTZrgy51WO",
      "execution_count": 52,
      "outputs": [
        {
          "output_type": "stream",
          "name": "stdout",
          "text": [
            "5000\n",
            "3295.0\n"
          ]
        }
      ]
    },
    {
      "cell_type": "code",
      "source": [],
      "metadata": {
        "id": "QCUDFXO37r49"
      },
      "id": "QCUDFXO37r49",
      "execution_count": null,
      "outputs": []
    }
  ],
  "metadata": {
    "kernelspec": {
      "display_name": "Python 3 (ipykernel)",
      "language": "python",
      "name": "python3"
    },
    "language_info": {
      "codemirror_mode": {
        "name": "ipython",
        "version": 3
      },
      "file_extension": ".py",
      "mimetype": "text/x-python",
      "name": "python",
      "nbconvert_exporter": "python",
      "pygments_lexer": "ipython3",
      "version": "3.10.6"
    },
    "colab": {
      "provenance": []
    }
  },
  "nbformat": 4,
  "nbformat_minor": 5
}